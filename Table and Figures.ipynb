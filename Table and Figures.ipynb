{
 "cells": [
  {
   "cell_type": "markdown",
   "metadata": {},
   "source": [
    "# Tables\n",
    "\n",
    "## Feature Description\n",
    "\n",
    "### Housing conditions\n",
    "Following table is a description of features related to housing conditions:\n",
    "\n",
    "| | **housing conditions** |\n",
    "|----------|-------------|\n",
    "| reviews_count      | number of reviews for the house |\n",
    "| bathrooms          | number of bathrooms for the house |\n",
    "| room_type_category | the type of room in the house |\n",
    "| instant_bookable   | boolean value indicating whether the house is instantly bookable |\n",
    "| cancellation_policy| the type of cancellation policy for renting the house |\n",
    "| bedrooms           | number of bedrooms |\n",
    "| bed_type_category  | the type of bed in the house |\n",
    "| person_capacity    | maximum number of people allowed to stay |\n",
    "| property_type      | the house type |\n",
    "| min_nights         | minimum number of nights required to book the house |  \n",
    "<center>[Table 1]</center>\n",
    "\n",
    "\n",
    "### Geographical conditions\n",
    "Following table is a description of features related to geographical conditions:\n",
    "\n",
    "| | **geographical conditions** |\n",
    "|----------|-------------|\n",
    "| num_attractions | number of attractions within 1 km radius centered at the house |\n",
    "| num_food | number of all types of food within 1 km radius centered at the house |\n",
    "| num_restaurants | number of restaurants within 1 km radius centered at the house |\n",
    "| num_tours | number of all types of tours within 1 km radius centered at the house |\n",
    "| num_trainstations | number of train stations within 1 km radius centered at the house |\n",
    "| num_transport | number of all types of transportation within 1 km radius centered at the house |\n",
    "<center>[Table 2]</center>"
   ]
  },
  {
   "cell_type": "code",
   "execution_count": null,
   "metadata": {
    "collapsed": true
   },
   "outputs": [],
   "source": []
  }
 ],
 "metadata": {
  "kernelspec": {
   "display_name": "Python 2",
   "language": "python",
   "name": "python2"
  },
  "language_info": {
   "codemirror_mode": {
    "name": "ipython",
    "version": 2
   },
   "file_extension": ".py",
   "mimetype": "text/x-python",
   "name": "python",
   "nbconvert_exporter": "python",
   "pygments_lexer": "ipython2",
   "version": "2.7.12"
  }
 },
 "nbformat": 4,
 "nbformat_minor": 0
}
